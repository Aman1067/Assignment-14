{
 "cells": [
  {
   "cell_type": "markdown",
   "id": "98f4a435",
   "metadata": {},
   "source": [
    "1. What does RGBA stand for?\n",
    "\n",
    "RGBA stands for \"Red Green Blue Alpha\". It is a color model that defines colors using a combination of red, green, and blue values along with an alpha channel that specifies the transparency of the color. The red, green, and blue values are typically represented as integers between 0 and 255, while the alpha value is represented as a float between 0 (completely transparent) and 1 (completely opaque)."
   ]
  },
  {
   "cell_type": "markdown",
   "id": "8fc9565c",
   "metadata": {},
   "source": [
    "2. From the Pillow module, how do you get the RGBA value of any images?\n",
    "\n",
    "To get the RGBA value of an image using the Pillow module we can use the getdata() method of the Image object, followed by the convert() method to convert the image data to RGBA mode"
   ]
  },
  {
   "cell_type": "markdown",
   "id": "eedf9f46",
   "metadata": {},
   "source": [
    "3. What is a box tuple, and how does it work?\n",
    "\n",
    "In the context of the Pillow module, a box tuple is a tuple of four integers that represents a rectangular region within an image. The four integers in the tuple correspond to the left, upper, right and lower coordinates of the rectangle, respectively."
   ]
  },
  {
   "cell_type": "markdown",
   "id": "6199f856",
   "metadata": {},
   "source": [
    "4. Use your image and load in notebook then, How can you find out the width and height of an Image object?"
   ]
  },
  {
   "cell_type": "code",
   "execution_count": 4,
   "id": "99d37a1b",
   "metadata": {},
   "outputs": [
    {
     "name": "stdout",
     "output_type": "stream",
     "text": [
      "The image dimensions are 552 x 908 pixels.\n"
     ]
    }
   ],
   "source": [
    "from PIL import Image\n",
    "\n",
    "# Load the image into an Image object\n",
    "img = Image.open(r'C:\\Users\\Anshuman\\Downloads\\download.jpg')\n",
    "\n",
    "# Get the image dimensions\n",
    "width, height = img.size\n",
    "\n",
    "# Print the dimensions to the console\n",
    "print(f\"The image dimensions are {width} x {height} pixels.\")\n"
   ]
  },
  {
   "cell_type": "markdown",
   "id": "5a8f6b1b",
   "metadata": {},
   "source": [
    "5. What method would you call to get Image object for a 100×100 image, excluding the lower-left quarter of it?\n",
    "\n",
    "To exclude the lower-left quarter of the image, we can call the crop() method with a box tuple that defines the region of the image to keep."
   ]
  },
  {
   "cell_type": "code",
   "execution_count": null,
   "id": "dc91482f",
   "metadata": {},
   "outputs": [],
   "source": [
    "from PIL import Image\n",
    "\n",
    "# Open the image file\n",
    "img = Image.open('image_file.jpg')\n",
    "\n",
    "# Crop the image to exclude the lower-left quarter\n",
    "img_cropped = img.crop((0, 50, 50, 100))\n"
   ]
  },
  {
   "cell_type": "markdown",
   "id": "b9d23fe5",
   "metadata": {},
   "source": [
    "6. After making changes to an Image object, how could you save it as an image file?"
   ]
  },
  {
   "cell_type": "code",
   "execution_count": null,
   "id": "a861f1e0",
   "metadata": {},
   "outputs": [],
   "source": [
    "from PIL import Image\n",
    "pic = Image.open('pic.png')\n",
    "pic.save('pic2.png')"
   ]
  },
  {
   "cell_type": "markdown",
   "id": "1c8e5085",
   "metadata": {},
   "source": [
    "7. What module contains Pillow’s shape-drawing code?\n",
    "\n",
    "The `ImageDraw` module in Pillow contains Pillow's shape-drawing code."
   ]
  },
  {
   "cell_type": "markdown",
   "id": "c6b1cef7",
   "metadata": {},
   "source": [
    "8. Image objects do not have drawing methods. What kind of object does? How do you get this kind of object?\n",
    "\n",
    "The ImageDraw object has drawing methods for Pillow. To get an ImageDraw object, we first need to import the ImageDraw module from the Pillow library and then create an instance of the ImageDraw.Draw() class, passing in the Image object we want to draw on as an argument."
   ]
  }
 ],
 "metadata": {
  "kernelspec": {
   "display_name": "Python 3 (ipykernel)",
   "language": "python",
   "name": "python3"
  },
  "language_info": {
   "codemirror_mode": {
    "name": "ipython",
    "version": 3
   },
   "file_extension": ".py",
   "mimetype": "text/x-python",
   "name": "python",
   "nbconvert_exporter": "python",
   "pygments_lexer": "ipython3",
   "version": "3.9.7"
  }
 },
 "nbformat": 4,
 "nbformat_minor": 5
}
